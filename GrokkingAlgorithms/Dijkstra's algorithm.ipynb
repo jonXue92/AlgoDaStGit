{
 "cells": [
  {
   "cell_type": "code",
   "execution_count": 19,
   "metadata": {},
   "outputs": [],
   "source": [
    "graph={}\n",
    "graph[\"start\"]={}\n",
    "graph[\"start\"][\"a\"]=6\n",
    "graph[\"start\"][\"b\"]=2\n",
    "graph[\"a\"]={}\n",
    "graph[\"a\"][\"fin\"]=1\n",
    "graph[\"b\"]={}\n",
    "graph[\"b\"][\"a\"]=3\n",
    "graph[\"b\"][\"fin\"]=5\n",
    "graph[\"fin\"]={}\n",
    "infinity=float(\"inf\")\n",
    "costs={}\n",
    "costs[\"a\"]=6\n",
    "costs[\"b\"]=2\n",
    "costs[\"fin\"]=infinity\n",
    "parents={}\n",
    "parents[\"a\"]=\"start\"\n",
    "parents[\"b\"]=\"start\"\n",
    "parents[\"fin\"]=None\n",
    "processed=[]"
   ]
  },
  {
   "cell_type": "code",
   "execution_count": 20,
   "metadata": {},
   "outputs": [],
   "source": [
    "def find_lowest_cost_node(costs):\n",
    "    lowest_cost=float(\"inf\")\n",
    "    lowest_cost_node=None\n",
    "    for node in costs:\n",
    "        cost=costs[node]\n",
    "        if cost<lowest_cost and node not in processed:\n",
    "            lowest_cost=cost\n",
    "            lowest_cost_node=node\n",
    "    return lowest_cost_node\n",
    "\n",
    "node=find_lowest_cost_node(costs)\n",
    "while node is not None:\n",
    "    cost=costs[node]\n",
    "    neighbors=graph[node]\n",
    "    for n in neighbors.keys():\n",
    "        new_cost=cost+neighbors[n]\n",
    "        if costs[n] > new_cost:\n",
    "            costs[n]=new_cost\n",
    "            parents[n]=node\n",
    "    processed.append(node)\n",
    "    node=find_lowest_cost_node(costs)"
   ]
  },
  {
   "cell_type": "code",
   "execution_count": 21,
   "metadata": {},
   "outputs": [
    {
     "name": "stdout",
     "output_type": "stream",
     "text": [
      "6\n",
      "fin\n",
      "a\n",
      "b\n",
      "start\n"
     ]
    }
   ],
   "source": [
    "print(costs['fin'])\n",
    "print('fin')\n",
    "while parents['fin'] != 'start':\n",
    "    print(parents['fin'])\n",
    "    parents['fin']=parents[parents['fin']]\n",
    "print(parents['fin'])"
   ]
  },
  {
   "cell_type": "code",
   "execution_count": 14,
   "metadata": {},
   "outputs": [
    {
     "name": "stdout",
     "output_type": "stream",
     "text": [
      "{'a': 'b', 'b': 'start', 'fin': 'a'}\n"
     ]
    }
   ],
   "source": [
    "print(parents)"
   ]
  },
  {
   "cell_type": "code",
   "execution_count": null,
   "metadata": {},
   "outputs": [],
   "source": []
  }
 ],
 "metadata": {
  "kernelspec": {
   "display_name": "Python 3",
   "language": "python",
   "name": "python3"
  },
  "language_info": {
   "codemirror_mode": {
    "name": "ipython",
    "version": 3
   },
   "file_extension": ".py",
   "mimetype": "text/x-python",
   "name": "python",
   "nbconvert_exporter": "python",
   "pygments_lexer": "ipython3",
   "version": "3.6.5"
  },
  "toc": {
   "base_numbering": 1,
   "nav_menu": {},
   "number_sections": true,
   "sideBar": true,
   "skip_h1_title": false,
   "title_cell": "Table of Contents",
   "title_sidebar": "Contents",
   "toc_cell": false,
   "toc_position": {},
   "toc_section_display": true,
   "toc_window_display": false
  }
 },
 "nbformat": 4,
 "nbformat_minor": 2
}
