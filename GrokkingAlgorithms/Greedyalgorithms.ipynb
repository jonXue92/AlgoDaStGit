{
 "cells": [
  {
   "cell_type": "code",
   "execution_count": 3,
   "metadata": {},
   "outputs": [],
   "source": [
    "states_needed=set([\"mt\",\"wa\",\"or\",\"id\",\"nv\",\"ut\",\"ca\",\"az\"])\n",
    "stations={}\n",
    "stations[\"kone\"]=set([\"id\",\"nv\",\"ut\"])\n",
    "stations[\"ktwo\"]=set([\"wa\",\"id\",\"mt\"])\n",
    "stations[\"kthree\"]=set([\"or\",\"nv\",\"ca\"])\n",
    "stations[\"kfour\"]=set([\"nv\",\"ut\"])\n",
    "stations[\"kfive\"]=set([\"ca\",\"az\"])\n",
    "final_stations=set()"
   ]
  },
  {
   "cell_type": "code",
   "execution_count": 5,
   "metadata": {},
   "outputs": [],
   "source": [
    "while states_needed:\n",
    "    best_station=None\n",
    "    states_covered=set()\n",
    "    for station, states_for_station in stations.items():\n",
    "        covered=states_needed & states_for_station\n",
    "        if len(covered) > len(states_covered):\n",
    "            best_station=station\n",
    "            states_covered=covered\n",
    "    final_stations.add(best_station)\n",
    "    states_needed -= states_covered"
   ]
  },
  {
   "cell_type": "code",
   "execution_count": 6,
   "metadata": {},
   "outputs": [
    {
     "name": "stdout",
     "output_type": "stream",
     "text": [
      "{'ktwo', 'kfive', 'kthree', 'kone'}\n"
     ]
    }
   ],
   "source": [
    "print(final_stations)"
   ]
  },
  {
   "cell_type": "markdown",
   "metadata": {},
   "source": [
    "***是不是贪婪算法***\n",
    "\n",
    "***快速排序：否***\n",
    "\n",
    "***广度优先搜索：是***\n",
    "\n",
    "***狄克斯特拉算法：是***"
   ]
  },
  {
   "cell_type": "code",
   "execution_count": null,
   "metadata": {},
   "outputs": [],
   "source": []
  }
 ],
 "metadata": {
  "kernelspec": {
   "display_name": "Python 3",
   "language": "python",
   "name": "python3"
  },
  "language_info": {
   "codemirror_mode": {
    "name": "ipython",
    "version": 3
   },
   "file_extension": ".py",
   "mimetype": "text/x-python",
   "name": "python",
   "nbconvert_exporter": "python",
   "pygments_lexer": "ipython3",
   "version": "3.6.5"
  },
  "toc": {
   "base_numbering": 1,
   "nav_menu": {},
   "number_sections": true,
   "sideBar": true,
   "skip_h1_title": false,
   "title_cell": "Table of Contents",
   "title_sidebar": "Contents",
   "toc_cell": false,
   "toc_position": {},
   "toc_section_display": true,
   "toc_window_display": false
  }
 },
 "nbformat": 4,
 "nbformat_minor": 2
}
