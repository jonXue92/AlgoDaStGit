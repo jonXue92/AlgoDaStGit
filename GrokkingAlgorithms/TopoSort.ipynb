{
 "cells": [
  {
   "cell_type": "markdown",
   "metadata": {},
   "source": [
    "几乎在所有的项目，甚至日常生活，待完成的不同任务之间通常都会存在着某些依赖关系，这些依赖关系会为它们的执行顺序行程表部分约束。对于这种依赖关系，很容易将其表示成一个***有向无环图（Directed Acyclic Graph，DAG，无环是一个重要条件）***，并将**寻找其中依赖顺序的过程(所有顶点的线性序列)称为拓扑排序（topological sorting）**\n",
    "\n",
    "满足如下两个条件：\n",
    "\n",
    "*1.每个顶点出现且只出现一次；*\n",
    "\n",
    "*2.若A在序列中排在B的前面，则在图中不存在从B到A的路径。*"
   ]
  },
  {
   "cell_type": "markdown",
   "metadata": {},
   "source": [
    "DAG分析：\n",
    "\n",
    "*1、拓扑排序并不唯一*\n",
    "\n",
    "*2、不含回路的有向图（有向无环图）**一定存在拓扑排序***\n",
    "\n",
    "**在DAG中DFS中顶点的出栈顺序即逆拓扑序**"
   ]
  },
  {
   "cell_type": "markdown",
   "metadata": {},
   "source": [
    "大多数操作系统都会有一个自动安装软件组件的系统（Ubuntu Linux 系统中的 apt-get，CentOS Linux 系统中的 RPM，Mac OS X 系统中的 brew 等），这些系统会自动检测依赖关系中缺少的部分，并下载安装它们，对于这一类工作，相关组件就必须按照一定的拓扑顺序来安装"
   ]
  },
  {
   "cell_type": "markdown",
   "metadata": {},
   "source": [
    "**1、选出入度为0的顶点**\n",
    "\n",
    "**2、删除所选定点与其所有的出边**\n",
    "\n",
    "**3、反复执行上面两个步骤，直到再也找不到入度为非零的顶点时结束**\n",
    "\n",
    "**如果入度非0的顶点，说明有向图中有环。**\n",
    "\n",
    "*topoSort函数不断取出有向图中入度为0的顶点，最后就是拓扑排序序列。*"
   ]
  },
  {
   "cell_type": "code",
   "execution_count": 16,
   "metadata": {},
   "outputs": [],
   "source": [
    "def indegree0(v,e):\n",
    "    if v==[]:\n",
    "        return None\n",
    "    tmp=v[:]\n",
    "    for i in e:\n",
    "        if i[1] in tmp:\n",
    "            tmp.remove(i[1])\n",
    "    if tmp==[]:\n",
    "        return -1\n",
    "    for t in tmp:\n",
    "        for i in range(len(e)):\n",
    "            if t in e[i]:\n",
    "                e[i]='toDel'\n",
    "    if e:\n",
    "        eset=set(e)\n",
    "        eset.remove('toDel')\n",
    "        e[:]=list(eset)\n",
    "    if v:\n",
    "        for t in tmp:\n",
    "            v.remove(t)\n",
    "    return tmp\n",
    "\n",
    "def topoSort(v,e):\n",
    "    result=[]\n",
    "    while True:\n",
    "        nodes=indegree0(v,e)\n",
    "        if nodes==None:\n",
    "            break\n",
    "        if nodes==-1:\n",
    "            print(\"there\\'s a circle.\")\n",
    "            return None\n",
    "        result.extend(nodes)\n",
    "    return result"
   ]
  },
  {
   "cell_type": "code",
   "execution_count": 17,
   "metadata": {},
   "outputs": [
    {
     "name": "stdout",
     "output_type": "stream",
     "text": [
      "['a', 'b', 'd', 'e', 'c']\n"
     ]
    }
   ],
   "source": [
    "v=['a','b','c','d','e']\n",
    "e=[('a','b'),('a','d'),('b','c'),('d','c'),('d','e'),('e','c')]\n",
    "res=topoSort(v,e)\n",
    "print(res)"
   ]
  },
  {
   "cell_type": "code",
   "execution_count": 18,
   "metadata": {},
   "outputs": [
    {
     "name": "stdout",
     "output_type": "stream",
     "text": [
      "there's a circle.\n",
      "None\n"
     ]
    }
   ],
   "source": [
    "v=['a','b','c','d','e']\n",
    "e=[('a','b'),('a','d'),('b','c'),('c','a'),('d','c'),('d','e'),('e','c')]\n",
    "res=topoSort(v,e)\n",
    "print(res)"
   ]
  },
  {
   "cell_type": "code",
   "execution_count": 27,
   "metadata": {},
   "outputs": [],
   "source": [
    "def topSort(G):\n",
    "    in_degrees=dict((u,0) for u in G)\n",
    "    vertex_num=len(in_degrees)\n",
    "    for u in G:\n",
    "        for v in G[u]:\n",
    "            in_degrees[v] += 1\n",
    "    Q=[u for u in G if in_degrees[u]==0]\n",
    "    S=[]\n",
    "    while Q:\n",
    "        u=Q.pop()\n",
    "        S.append(u)\n",
    "        for v in G[u]:\n",
    "            in_degrees[v] -= 1\n",
    "            if in_degrees[v] == 0:\n",
    "                Q.append(v)\n",
    "    if len(S) == vertex_num:\n",
    "        return S\n",
    "    else:\n",
    "        print(\"there's a circle.\")"
   ]
  },
  {
   "cell_type": "code",
   "execution_count": 28,
   "metadata": {},
   "outputs": [
    {
     "name": "stdout",
     "output_type": "stream",
     "text": [
      "['a', 'b', 'c', 'd', 'e', 'f']\n"
     ]
    }
   ],
   "source": [
    "G={\n",
    "    'a':'bf',\n",
    "    'b':'cdf',\n",
    "    'c':'d',\n",
    "    'd':'ef',\n",
    "    'e':'f',\n",
    "    'f':''\n",
    "}\n",
    "print(topSort(G))"
   ]
  },
  {
   "cell_type": "code",
   "execution_count": 29,
   "metadata": {},
   "outputs": [
    {
     "name": "stdout",
     "output_type": "stream",
     "text": [
      "there's a circle.\n",
      "None\n"
     ]
    }
   ],
   "source": [
    "G={'a':'bce','b':'d','c':'d','d':'e','e':'cd'}\n",
    "print(topSort(G))"
   ]
  }
 ],
 "metadata": {
  "kernelspec": {
   "display_name": "Python 3",
   "language": "python",
   "name": "python3"
  },
  "language_info": {
   "codemirror_mode": {
    "name": "ipython",
    "version": 3
   },
   "file_extension": ".py",
   "mimetype": "text/x-python",
   "name": "python",
   "nbconvert_exporter": "python",
   "pygments_lexer": "ipython3",
   "version": "3.6.5"
  },
  "toc": {
   "base_numbering": 1,
   "nav_menu": {},
   "number_sections": true,
   "sideBar": true,
   "skip_h1_title": false,
   "title_cell": "Table of Contents",
   "title_sidebar": "Contents",
   "toc_cell": false,
   "toc_position": {},
   "toc_section_display": true,
   "toc_window_display": false
  }
 },
 "nbformat": 4,
 "nbformat_minor": 2
}
